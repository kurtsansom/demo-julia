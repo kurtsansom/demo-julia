{
 "cells": [
  {
   "cell_type": "markdown",
   "metadata": {},
   "source": [
    "# TODO\n",
    "* better example of REPL \n",
    "* More matrix/ math examples\n",
    "* more plot examples\n"
   ]
  },
  {
   "cell_type": "markdown",
   "metadata": {},
   "source": [
    "# Julia \n",
    "---\n",
    "\n",
    "## Outline\n",
    "* [Language introduction](#Language-Introduction)\n",
    "* [Some Basics](#Some-Basics)\n",
    "    * [Strings](#Strings)\n",
    "    * [Collections](#Collections)\n",
    "    * [Types](#Types)\n",
    "    * [Functions](#Functions)\n",
    "    * [Files](#Files)\n",
    "    * [Parallelization](#Parallelization)\n",
    "* [External Packages](#External-Packages)\n",
    "    * [Plotting](#Plotting)\n",
    "    * [Dataframes](#DataFrames)\n",
    "    * [Machine Learning](#Machine-Learning)\n",
    "* [Language Iteroperability](#Language-Interoperability)\n",
    "* [Code Introspection](#Code-Introspection)\n",
    "* [Macros](#Useful-Macros)\n",
    "* [Gotchas](#Gotchas)\n",
    "* [References](#References)"
   ]
  },
  {
   "cell_type": "markdown",
   "metadata": {},
   "source": [
    "---\n",
    "## Language Introduction\n",
    "\n",
    "### Pros\n",
    "* Fast! - programs compile to native code via LLVM\n",
    "* High level syntax - like python or MATLAB and caters more towards the scientific user \n",
    "* Optionally typed - Whip up code without worrying about types. You can add strict typing later\n",
    "* Open source (MIT) and free! - Like python, NOT like MATLAB\n",
    "* Flexible usecases - Like python, Julia can be run as a script, a REPL, or a Jupyter notebook kernel (like this)\n",
    "* Builtin PackageManager - with virtual environments to boot!\n",
    "\n",
    "### Features\n",
    "* Pass by reference\n",
    "* Column major\n",
    "* Garbage collection\n",
    "* JIT (Just In Time) compilation\n",
    "* Multiple Dispatch - Think functional, not Object Oriented\n",
    "* Coroutines - TODO\n",
    "\n",
    "### Other\n",
    "* IDE \n",
    "  * [Juno](https://junolab.org/) or Text Editor + LanguageClient\n",
    "  * [VSCode + plugin](https://github.com/julia-vscode/julia-vscode)\n",
    "  * Vim/Emaccs + [Language Client/Server](https://github.com/julia-vscode/LanguageServer.jl)"
   ]
  },
  {
   "cell_type": "markdown",
   "metadata": {},
   "source": [
    "## Presentation Goals\n",
    "* Whet your apetite for Julia by demonstrating some of its **unique** capabilities\n",
    "* Demonstrate that Julia is no longer just a science project but is quickly becoming a mature language\n",
    "* Encourage MATLAB (and python?) users to consider switching to Julia\n",
    "\n",
    "#### This presentation is meant to **IMPRESS** more than to teach"
   ]
  },
  {
   "cell_type": "markdown",
   "metadata": {},
   "source": [
    "--- \n",
    "## Some Basics"
   ]
  },
  {
   "cell_type": "markdown",
   "metadata": {},
   "source": [
    "### Strings\n",
    "#### Charachters\n",
    "\"The valid Unicode code points are U+00 through U+d7ff and U+e000 through U+10ffffa\" - Julia Docs"
   ]
  },
  {
   "cell_type": "code",
   "execution_count": 2,
   "metadata": {},
   "outputs": [
    {
     "name": "stdout",
     "output_type": "stream",
     "text": [
      "Char\n",
      "String\n",
      "∀\n",
      "120\n",
      "x\n"
     ]
    }
   ],
   "source": [
    "# Charachters\n",
    "println(typeof('x')) \n",
    "println(typeof(\"x\")) \n",
    "println('\\u2200')\n",
    "println(Int('x'))\n",
    "println(Char(120))"
   ]
  },
  {
   "cell_type": "code",
   "execution_count": 3,
   "metadata": {},
   "outputs": [
    {
     "name": "stdout",
     "output_type": "stream",
     "text": [
      "true\n",
      "23\n",
      "B\n"
     ]
    }
   ],
   "source": [
    "# tricks\n",
    "println('a' < 'b')\n",
    "println('x'-'a')\n",
    "println('A' + 1)"
   ]
  },
  {
   "cell_type": "markdown",
   "metadata": {},
   "source": [
    "#### Strings"
   ]
  },
  {
   "cell_type": "code",
   "execution_count": 4,
   "metadata": {},
   "outputs": [
    {
     "name": "stdout",
     "output_type": "stream",
     "text": [
      "11\n",
      "H\n",
      "d\n"
     ]
    }
   ],
   "source": [
    "str = \"Hello World\"\n",
    "println(length(str))\n",
    "println(str[1])\n",
    "println(str[end])"
   ]
  },
  {
   "cell_type": "code",
   "execution_count": 5,
   "metadata": {},
   "outputs": [
    {
     "data": {
      "text/plain": [
       "\"∀ x ∃ y\""
      ]
     },
     "execution_count": 5,
     "metadata": {},
     "output_type": "execute_result"
    }
   ],
   "source": [
    "# put unicode charachters in string\n",
    "s = \"\\u2200 x \\u2203 y\""
   ]
  },
  {
   "cell_type": "code",
   "execution_count": 7,
   "metadata": {},
   "outputs": [
    {
     "name": "stdout",
     "output_type": "stream",
     "text": [
      "My name is Daniel and I'm 26 years old\n",
      "4+5=9\n",
      "4+5=$(4+5)\n"
     ]
    }
   ],
   "source": [
    "# Interpolation\n",
    "name = \"Daniel\"\n",
    "age = 26\n",
    "println(\"My name is $name and I'm $age years old\")\n",
    "\n",
    "# execute a statement inside a string\n",
    "println(\"4+5=$(4+5)\")\n",
    "\n",
    "# raw string\n",
    "println(raw\"4+5=$(4+5)\") "
   ]
  },
  {
   "cell_type": "code",
   "execution_count": 12,
   "metadata": {},
   "outputs": [
    {
     "name": "stdout",
     "output_type": "stream",
     "text": [
      "Regex\n",
      "45\n"
     ]
    }
   ],
   "source": [
    "# Regular Expressions\n",
    "reg = r\"(?<hour>\\d+):(?<minute>\\d+)\"\n",
    "println(typeof(reg))\n",
    "\n",
    "m = match(reg, \"12:45\")\n",
    "println(m[:minute])"
   ]
  },
  {
   "cell_type": "code",
   "execution_count": 15,
   "metadata": {},
   "outputs": [
    {
     "name": "stdout",
     "output_type": "stream",
     "text": [
      "UInt8[0x31, 0x32, 0x33, 0xe1, 0x88, 0xb0]\n",
      "49\n",
      "1\n"
     ]
    }
   ],
   "source": [
    "# Byte Array Literals\n",
    "x = b\"123\\u1230\"\n",
    "println(x)\n",
    "println(x[1])\n",
    "println(Char(0x31))"
   ]
  },
  {
   "cell_type": "markdown",
   "metadata": {},
   "source": [
    "### Collections"
   ]
  },
  {
   "cell_type": "code",
   "execution_count": 17,
   "metadata": {},
   "outputs": [
    {
     "name": "stdout",
     "output_type": "stream",
     "text": [
      "size of a = (3,)\n",
      "size of b = (1, 3)\n",
      "true\n",
      "false\n"
     ]
    }
   ],
   "source": [
    "a = [1, 2, 3]  # 1D Array or Vector\n",
    "b = [1 2 3] # 2D Array with 1 row 3 col\n",
    "println(\"size of a = $(size(a))\")\n",
    "println(\"size of b = $(size(b))\")\n",
    "println(typeof(a) <: Vector)\n",
    "println(typeof(b) <: Vector)"
   ]
  },
  {
   "cell_type": "code",
   "execution_count": 19,
   "metadata": {},
   "outputs": [
    {
     "name": "stdout",
     "output_type": "stream",
     "text": [
      "Array{Array{Int64,2},1}\n",
      "Array{Int64,2}\n",
      "false\n",
      "true\n"
     ]
    }
   ],
   "source": [
    "#  nested Arrays vs 2D Arrays vs matrix\n",
    "A = [[1 2 3], [4 5 6]] # nested Arrays\n",
    "B = [1 2 3 ; 4 5 6] # 2D Array => Matrix\n",
    "println(typeof(A))\n",
    "println(typeof(B))\n",
    "println(typeof(A) <: Matrix)\n",
    "println(typeof(B) <: Matrix)"
   ]
  },
  {
   "cell_type": "code",
   "execution_count": 20,
   "metadata": {},
   "outputs": [
    {
     "data": {
      "text/plain": [
       "2×2×6 Array{Int64,3}:\n",
       "[:, :, 1] =\n",
       " 1  1\n",
       " 1  0\n",
       "\n",
       "[:, :, 2] =\n",
       " 0  1\n",
       " 1  0\n",
       "\n",
       "[:, :, 3] =\n",
       " 0  1\n",
       " 0  0\n",
       "\n",
       "[:, :, 4] =\n",
       " 0  0\n",
       " 1  1\n",
       "\n",
       "[:, :, 5] =\n",
       " 1  0\n",
       " 1  1\n",
       "\n",
       "[:, :, 6] =\n",
       " 0  0\n",
       " 0  0"
      ]
     },
     "execution_count": 20,
     "metadata": {},
     "output_type": "execute_result"
    }
   ],
   "source": [
    "# creating arrays\n",
    "zeros(3,4)  # also 'ones'\n",
    "randn(3,1)\n",
    "Array{Int64, 3}(undef, 2,2,6)"
   ]
  },
  {
   "cell_type": "code",
   "execution_count": 62,
   "metadata": {},
   "outputs": [],
   "source": [
    "# matrices definitions\n",
    "m1 = [ 1 2 3; 4 5 6; 7 8 9]\n",
    "m2 = [ 1 2 3\n",
    "       4 5 6\n",
    "       7 8 9]\n",
    "m3 = reshape(1:9, (3,3))';"
   ]
  },
  {
   "cell_type": "code",
   "execution_count": 64,
   "metadata": {},
   "outputs": [
    {
     "data": {
      "text/plain": [
       "true"
      ]
     },
     "execution_count": 64,
     "metadata": {},
     "output_type": "execute_result"
    }
   ],
   "source": [
    "m1 == m2 == m3"
   ]
  },
  {
   "cell_type": "code",
   "execution_count": 5,
   "metadata": {},
   "outputs": [
    {
     "data": {
      "text/plain": [
       "Dict{String,Int64} with 2 entries:\n",
       "  \"B\" => 2\n",
       "  \"A\" => 1"
      ]
     },
     "execution_count": 5,
     "metadata": {},
     "output_type": "execute_result"
    }
   ],
   "source": [
    "a = [4,1,3,2]                    # 1D Array / Vector\n",
    "b = (4, \"a\", 9.1, sum)           # tuple\n",
    "c = Dict([(\"A\", 1), (\"B\", 2)])   # dictionary/hashmap\n",
    "# c = Dict(\"A\"=>1, B=>2)"
   ]
  },
  {
   "cell_type": "code",
   "execution_count": 6,
   "metadata": {},
   "outputs": [
    {
     "name": "stdout",
     "output_type": "stream",
     "text": [
      "[4, 1, 3, 2]\n",
      "4\n",
      "1\n",
      "3\n",
      "2\n",
      "[16, 1, 9, 4]\n"
     ]
    }
   ],
   "source": [
    "# vectorized operations begin with '.'\n",
    "println(a)\n",
    "println.(a)\n",
    "println(a.^2)"
   ]
  },
  {
   "cell_type": "code",
   "execution_count": 23,
   "metadata": {},
   "outputs": [
    {
     "name": "stdout",
     "output_type": "stream",
     "text": [
      "true\n",
      "true\n",
      "false\n"
     ]
    }
   ],
   "source": [
    "# sets\n",
    "println(3 ∈ a)\n",
    "println(a ∋ 3)\n",
    "println(\"a\" ∉ b)"
   ]
  },
  {
   "cell_type": "code",
   "execution_count": 24,
   "metadata": {},
   "outputs": [
    {
     "data": {
      "text/plain": [
       "2-element Array{Union{Nothing, Int64},1}:\n",
       " 4\n",
       " 2"
      ]
     },
     "execution_count": 24,
     "metadata": {},
     "output_type": "execute_result"
    }
   ],
   "source": [
    "# one of julia's many niche but useful functions \n",
    "indexin([2,1],a)"
   ]
  },
  {
   "cell_type": "code",
   "execution_count": 26,
   "metadata": {},
   "outputs": [
    {
     "name": "stdout",
     "output_type": "stream",
     "text": [
      "a\n",
      "['b', 'c', 'd']\n",
      "['e', 'f']\n"
     ]
    }
   ],
   "source": [
    "# stateful iterator\n",
    "import Base.Iterators.Stateful\n",
    "d = Iterators.Stateful(\"abcdef\")\n",
    "println(popfirst!(d))\n",
    "println(collect(Iterators.take(d,3)))\n",
    "println(collect(d))\n",
    "\n",
    "# Checkout other cool iterators in docs"
   ]
  },
  {
   "cell_type": "markdown",
   "metadata": {},
   "source": [
    "### Types\n"
   ]
  },
  {
   "cell_type": "code",
   "execution_count": 28,
   "metadata": {},
   "outputs": [
    {
     "name": "stdout",
     "output_type": "stream",
     "text": [
      "Int64\n",
      "true\n",
      "false\n"
     ]
    }
   ],
   "source": [
    "# check checking with 'typof' and 'isa'\n",
    "println(typeof(4))\n",
    "println(typeof(4) <: Int)\n",
    "println(isa(4, Float32))"
   ]
  },
  {
   "cell_type": "code",
   "execution_count": 29,
   "metadata": {},
   "outputs": [
    {
     "ename": "TypeError",
     "evalue": "TypeError: in typeassert, expected AbstractFloat, got Int64",
     "output_type": "error",
     "traceback": [
      "TypeError: in typeassert, expected AbstractFloat, got Int64",
      "",
      "Stacktrace:",
      " [1] top-level scope at In[29]:1"
     ]
    }
   ],
   "source": [
    "# assert is instance of\n",
    "21::AbstractFloat"
   ]
  },
  {
   "cell_type": "code",
   "execution_count": 30,
   "metadata": {},
   "outputs": [
    {
     "data": {
      "text/plain": [
       "true"
      ]
     },
     "execution_count": 30,
     "metadata": {},
     "output_type": "execute_result"
    }
   ],
   "source": [
    "# determine if one type is a subtype of another\n",
    "Int64 <: Number"
   ]
  },
  {
   "cell_type": "code",
   "execution_count": 31,
   "metadata": {},
   "outputs": [
    {
     "name": "stdout",
     "output_type": "stream",
     "text": [
      "Thing1\n"
     ]
    }
   ],
   "source": [
    "# composite types\n",
    "struct Thing1\n",
    "    a::Int\n",
    "    b::String\n",
    "end\n",
    "t1 = Thing1(6,\"hi\")\n",
    "println(typeof(t1))"
   ]
  },
  {
   "cell_type": "code",
   "execution_count": 33,
   "metadata": {},
   "outputs": [
    {
     "data": {
      "text/plain": [
       "Point{Int64}(5, 7)"
      ]
     },
     "execution_count": 33,
     "metadata": {},
     "output_type": "execute_result"
    }
   ],
   "source": [
    "# parametric types\n",
    "struct Point{T}\n",
    "    x::T\n",
    "    y::T\n",
    "end\n",
    "p = Point(5, 7)\n"
   ]
  },
  {
   "cell_type": "code",
   "execution_count": 34,
   "metadata": {},
   "outputs": [
    {
     "name": "stdout",
     "output_type": "stream",
     "text": [
      "FloatPoint{Float64}(3.2, 6.7)\n"
     ]
    },
    {
     "ename": "MethodError",
     "evalue": "MethodError: no method matching FloatPoint(::Int64, ::Int64)",
     "output_type": "error",
     "traceback": [
      "MethodError: no method matching FloatPoint(::Int64, ::Int64)",
      "",
      "Stacktrace:",
      " [1] top-level scope at In[34]:6"
     ]
    }
   ],
   "source": [
    "struct FloatPoint{T<:AbstractFloat}\n",
    "    x::T\n",
    "    y::T\n",
    "end\n",
    "println(FloatPoint(3.2,6.7))\n",
    "println(FloatPoint(4,7))"
   ]
  },
  {
   "cell_type": "markdown",
   "metadata": {},
   "source": [
    "### Functions"
   ]
  },
  {
   "cell_type": "code",
   "execution_count": 36,
   "metadata": {},
   "outputs": [
    {
     "data": {
      "text/plain": [
       "thing (generic function with 2 methods)"
      ]
     },
     "execution_count": 36,
     "metadata": {},
     "output_type": "execute_result"
    }
   ],
   "source": [
    "function thing(a, b=100, c... ; d=-10)\n",
    "    println(\"a=$a , b=$b , c=$c, d=$d\")\n",
    "end"
   ]
  },
  {
   "cell_type": "code",
   "execution_count": 38,
   "metadata": {},
   "outputs": [
    {
     "name": "stdout",
     "output_type": "stream",
     "text": [
      "a=hey , b=100 , c=(), d=-10\n",
      "a=dan , b=3 , c=(), d=-10\n",
      "a=dan , b=2 , c=(5.5, 6.6), d=-10\n",
      "a=dan , b=100 , c=(), d=6\n"
     ]
    },
    {
     "ename": "MethodError",
     "evalue": "MethodError: no method matching thing(::String, ::Int64; b=5)\nClosest candidates are:\n  thing(::Any, ::Any, !Matched::Any...; d) at In[36]:2 got unsupported keyword argument \"b\"\n  thing(::Any) at In[36]:2 got unsupported keyword argument \"b\"",
     "output_type": "error",
     "traceback": [
      "MethodError: no method matching thing(::String, ::Int64; b=5)\nClosest candidates are:\n  thing(::Any, ::Any, !Matched::Any...; d) at In[36]:2 got unsupported keyword argument \"b\"\n  thing(::Any) at In[36]:2 got unsupported keyword argument \"b\"",
      "",
      "Stacktrace:",
      " [1] kwerr(::NamedTuple{(:b,),Tuple{Int64}}, ::Function, ::String, ::Int64) at ./error.jl:125",
      " [2] #thing at ./none:0 [inlined] (repeats 2 times)",
      " [3] top-level scope at In[38]:5"
     ]
    }
   ],
   "source": [
    "thing(\"hey\")\n",
    "thing(\"dan\", 3)\n",
    "thing(\"dan\", 2, 5.5, 6.6)\n",
    "thing(\"dan\", d=6)\n",
    "thing(\"dan\", b=5)"
   ]
  },
  {
   "cell_type": "code",
   "execution_count": 34,
   "metadata": {},
   "outputs": [
    {
     "data": {
      "text/plain": [
       "0.00013383022576488537"
      ]
     },
     "execution_count": 34,
     "metadata": {},
     "output_type": "execute_result"
    }
   ],
   "source": [
    "# oneline function\n",
    "gauss(x, μ=0, σ=1) = 1/(σ*sqrt(2*π))*exp(-0.5*((x-μ)/σ)^2)\n",
    "gauss(4)"
   ]
  },
  {
   "cell_type": "code",
   "execution_count": 40,
   "metadata": {},
   "outputs": [
    {
     "data": {
      "text/plain": [
       "3-element Array{Int64,1}:\n",
       "  4\n",
       "  7\n",
       " 12"
      ]
     },
     "execution_count": 40,
     "metadata": {},
     "output_type": "execute_result"
    }
   ],
   "source": [
    "# lambda\n",
    "map(x->x^2+3, [1,2,3])"
   ]
  },
  {
   "cell_type": "code",
   "execution_count": 41,
   "metadata": {},
   "outputs": [
    {
     "data": {
      "text/plain": [
       "49.0"
      ]
     },
     "execution_count": 41,
     "metadata": {},
     "output_type": "execute_result"
    }
   ],
   "source": [
    "# strict typing\n",
    "oneliner(x::Int64)::Float64 = (x+1)^2\n",
    "oneliner(6)"
   ]
  },
  {
   "cell_type": "code",
   "execution_count": 44,
   "metadata": {},
   "outputs": [
    {
     "data": {
      "text/plain": [
       "18"
      ]
     },
     "execution_count": 44,
     "metadata": {},
     "output_type": "execute_result"
    }
   ],
   "source": [
    "# unicode functions\n",
    "∑(x...) = sum(x)\n",
    "∑(4,5,9)"
   ]
  },
  {
   "cell_type": "code",
   "execution_count": 23,
   "metadata": {},
   "outputs": [
    {
     "data": {
      "text/plain": [
       "Person(\"Daniel&Raeley\", 1.000005e6)"
      ]
     },
     "execution_count": 23,
     "metadata": {},
     "output_type": "execute_result"
    }
   ],
   "source": [
    "# override operators like '+'\n",
    "import Base.+\n",
    "\n",
    "struct Person\n",
    "    name::String\n",
    "    wealth::Float64\n",
    "end\n",
    "# overload '+' operator for 'Person' type\n",
    "+(p1::Person, p2::Person) = Person(p1.name*\"&\"*p2.name, p1.wealth+p2.wealth)\n",
    "\n",
    "p1 = Person(\"Daniel\", 5)\n",
    "p2 = Person(\"Raeley\", 1000000)\n",
    "p1+p2"
   ]
  },
  {
   "cell_type": "code",
   "execution_count": 35,
   "metadata": {},
   "outputs": [
    {
     "name": "stdout",
     "output_type": "stream",
     "text": [
      "Float64\n"
     ]
    },
    {
     "ename": "MethodError",
     "evalue": "MethodError: no method matching param(::Int64)\nClosest candidates are:\n  param(!Matched::T) where T<:AbstractFloat at In[35]:3",
     "output_type": "error",
     "traceback": [
      "MethodError: no method matching param(::Int64)\nClosest candidates are:\n  param(!Matched::T) where T<:AbstractFloat at In[35]:3",
      "",
      "Stacktrace:",
      " [1] top-level scope at In[35]:6"
     ]
    }
   ],
   "source": [
    "# parametric function\n",
    "function param(a::T) where {T <: AbstractFloat}\n",
    "    println(typeof(a))\n",
    "end\n",
    "param(4.5)\n",
    "param(4)"
   ]
  },
  {
   "cell_type": "code",
   "execution_count": 48,
   "metadata": {},
   "outputs": [
    {
     "data": {
      "text/plain": [
       "points (generic function with 1 method)"
      ]
     },
     "execution_count": 48,
     "metadata": {},
     "output_type": "execute_result"
    }
   ],
   "source": [
    "# function that takes a parametric type\n",
    "function points(a::Point{<:Integer}) end"
   ]
  },
  {
   "cell_type": "markdown",
   "metadata": {},
   "source": [
    "### Files"
   ]
  },
  {
   "cell_type": "code",
   "execution_count": 20,
   "metadata": {},
   "outputs": [
    {
     "name": "stdout",
     "output_type": "stream",
     "text": [
      "keys = [\"id\", \"personel\"]\n",
      "Dict{String,Any}(\"name\" => \"Dwight K. Schrute\",\"age\" => 32)\n",
      "Dict{String,Any}(\"name\" => \"Jim Halpert\",\"age\" => 30)\n",
      "Dict{String,Any}(\"name\" => \"William M. Buttlicker\",\"age\" => 60)\n"
     ]
    }
   ],
   "source": [
    "# json file reading\n",
    "using JSON\n",
    "json_obj = JSON.parse(read(\"json_example.json\", String))\n",
    "println(\"keys = $(keys(json_obj[\"FSD\"]))\")\n",
    "println.(json_obj[\"FSD\"][\"personel\"]);"
   ]
  },
  {
   "cell_type": "code",
   "execution_count": 26,
   "metadata": {},
   "outputs": [],
   "source": [
    "# binary file writing\n",
    "open(\"temp.bin\", \"w\") do io\n",
    "    write(io, 99)\n",
    "    write(io, \"hello world\")\n",
    "end;"
   ]
  },
  {
   "cell_type": "code",
   "execution_count": 30,
   "metadata": {},
   "outputs": [
    {
     "name": "stdout",
     "output_type": "stream",
     "text": [
      "99\n",
      "hello world\n"
     ]
    }
   ],
   "source": [
    "# binary file reading\n",
    "io = open(\"temp.bin\", \"r\")\n",
    "println(read(io, Int))\n",
    "println(String(read(io, 11)))\n",
    "close(io)"
   ]
  },
  {
   "cell_type": "markdown",
   "metadata": {},
   "source": [
    "### Parallelization\n",
    "\n",
    "[threads in julia-1.3](https://julialang.org/blog/2019/07/multithreading/)"
   ]
  },
  {
   "cell_type": "code",
   "execution_count": 11,
   "metadata": {},
   "outputs": [
    {
     "name": "stdout",
     "output_type": "stream",
     "text": [
      "num threads = 4\n",
      "i = 1 on thread 1\n",
      "i = 7 on thread 3\n",
      "i = 2 on thread 1\n",
      "i = 9 on thread 4\n",
      "i = 8 on thread 3\n",
      "i = 3 on thread 1\n",
      "i = 10 on thread 4\n",
      "i = 4 on thread 2\n",
      "i = 5 on thread 2\n",
      "i = 6 on thread 2\n"
     ]
    }
   ],
   "source": [
    "using Base.Threads: @threads, @spawn\n",
    "# check that multiple threads are enabled. if not ```export JULIA_NUM_THREADS=4```\n",
    "println(\"num threads = $(Threads.nthreads())\")\n",
    "\n",
    "@threads for i = 1:10\n",
    "    println(\"i = $i on thread $(Threads.threadid())\")\n",
    "end"
   ]
  },
  {
   "cell_type": "code",
   "execution_count": 14,
   "metadata": {},
   "outputs": [
    {
     "name": "stdout",
     "output_type": "stream",
     "text": [
      "first=-3.6527635913299394 last=3.341278084083789\n",
      "first=-4.268262658537813 last=3.413760645896908\n"
     ]
    }
   ],
   "source": [
    "arr1 = randn(5000)\n",
    "arr2 = randn(5000)\n",
    "sort1_task = @spawn sort(arr1)\n",
    "sort2 = sort(arr2)\n",
    "sort1 = fetch(sort1_task)\n",
    "\n",
    "println(\"first=$(sort1[1]) last=$(sort1[end])\")\n",
    "println(\"first=$(sort2[1]) last=$(sort2[end])\")"
   ]
  },
  {
   "cell_type": "markdown",
   "metadata": {},
   "source": [
    "---\n",
    "## External Packages"
   ]
  },
  {
   "cell_type": "markdown",
   "metadata": {},
   "source": [
    "### Plotting\n",
    "#### [Plots.jl](http://docs.juliaplots.org/latest/) +  [PlotThemes.jl](https://github.com/JuliaPlots/PlotThemes.jl)"
   ]
  },
  {
   "cell_type": "code",
   "execution_count": 39,
   "metadata": {},
   "outputs": [
    {
     "data": {
      "image/png": "[encoded data removed]"
     },
     "execution_count": 39,
     "metadata": {},
     "output_type": "execute_result"
    }
   ],
   "source": [
    "using Plots\n",
    "pyplot()\n",
    "\n",
    "x=range(-3,3,length=100)\n",
    "p = plot(x,gauss.(x), size=(400, 300), label=\"normal\", title=\"my graph\")"
   ]
  },
  {
   "cell_type": "code",
   "execution_count": 80,
   "metadata": {},
   "outputs": [
    {
     "data": {
      "image/png": "[encoded data removed]"
     },
     "execution_count": 80,
     "metadata": {},
     "output_type": "execute_result"
    }
   ],
   "source": [
    "theme(:dark)\n",
    "plot(x, hcat(cos.(2*x), sin.(4*x)), label=[\"cos\" \"sin\"],size=(400,300))"
   ]
  },
  {
   "cell_type": "markdown",
   "metadata": {},
   "source": [
    "### DataFrames \n",
    "#### [DataFrames.jl](https://github.com/JuliaData/DataFrames.jl)"
   ]
  },
  {
   "cell_type": "code",
   "execution_count": 56,
   "metadata": {},
   "outputs": [
    {
     "data": {
      "text/html": [
       "<table class=\"data-frame\"><thead><tr><th></th><th>A</th><th>B</th><th>C</th></tr><tr><th></th><th>Int64</th><th>Float64</th><th>String</th></tr></thead><tbody><p>5 rows × 3 columns</p><tr><th>1</th><td>1</td><td>0.785962</td><td>a</td></tr><tr><th>2</th><td>2</td><td>0.188941</td><td>b</td></tr><tr><th>3</th><td>3</td><td>0.107267</td><td>c</td></tr><tr><th>4</th><td>4</td><td>0.386551</td><td>b</td></tr><tr><th>5</th><td>5</td><td>0.560126</td><td>a</td></tr></tbody></table>"
      ],
      "text/latex": [
       "\\begin{tabular}{r|ccc}\n",
       "\t& A & B & C\\\\\n",
       "\t\\hline\n",
       "\t& Int64 & Float64 & String\\\\\n",
       "\t\\hline\n",
       "\t1 & 1 & 0.785962 & a \\\\\n",
       "\t2 & 2 & 0.188941 & b \\\\\n",
       "\t3 & 3 & 0.107267 & c \\\\\n",
       "\t4 & 4 & 0.386551 & b \\\\\n",
       "\t5 & 5 & 0.560126 & a \\\\\n",
       "\\end{tabular}\n"
      ],
      "text/plain": [
       "5×3 DataFrame\n",
       "│ Row │ A     │ B        │ C      │\n",
       "│     │ \u001b[90mInt64\u001b[39m │ \u001b[90mFloat64\u001b[39m  │ \u001b[90mString\u001b[39m │\n",
       "├─────┼───────┼──────────┼────────┤\n",
       "│ 1   │ 1     │ 0.785962 │ a      │\n",
       "│ 2   │ 2     │ 0.188941 │ b      │\n",
       "│ 3   │ 3     │ 0.107267 │ c      │\n",
       "│ 4   │ 4     │ 0.386551 │ b      │\n",
       "│ 5   │ 5     │ 0.560126 │ a      │"
      ]
     },
     "execution_count": 56,
     "metadata": {},
     "output_type": "execute_result"
    }
   ],
   "source": [
    "using DataFrames\n",
    "df = DataFrame(A = 1:5, B = rand(5), C = [\"a\",\"b\",\"c\",\"b\",\"a\"])"
   ]
  },
  {
   "cell_type": "code",
   "execution_count": 57,
   "metadata": {},
   "outputs": [
    {
     "data": {
      "text/html": [
       "<table class=\"data-frame\"><thead><tr><th></th><th>A</th><th>B</th><th>C</th></tr><tr><th></th><th>Int64</th><th>Float64</th><th>String</th></tr></thead><tbody><p>2 rows × 3 columns</p><tr><th>1</th><td>2</td><td>0.188941</td><td>b</td></tr><tr><th>2</th><td>4</td><td>0.386551</td><td>b</td></tr></tbody></table>"
      ],
      "text/latex": [
       "\\begin{tabular}{r|ccc}\n",
       "\t& A & B & C\\\\\n",
       "\t\\hline\n",
       "\t& Int64 & Float64 & String\\\\\n",
       "\t\\hline\n",
       "\t1 & 2 & 0.188941 & b \\\\\n",
       "\t2 & 4 & 0.386551 & b \\\\\n",
       "\\end{tabular}\n"
      ],
      "text/plain": [
       "2×3 DataFrame\n",
       "│ Row │ A     │ B        │ C      │\n",
       "│     │ \u001b[90mInt64\u001b[39m │ \u001b[90mFloat64\u001b[39m  │ \u001b[90mString\u001b[39m │\n",
       "├─────┼───────┼──────────┼────────┤\n",
       "│ 1   │ 2     │ 0.188941 │ b      │\n",
       "│ 2   │ 4     │ 0.386551 │ b      │"
      ]
     },
     "execution_count": 57,
     "metadata": {},
     "output_type": "execute_result"
    }
   ],
   "source": [
    "df[df[:,:C] .== \"b\",:]"
   ]
  },
  {
   "cell_type": "markdown",
   "metadata": {},
   "source": [
    "### Machine Learning\n",
    "#### [Flux.jl](https://github.com/FluxML/Flux.jl)"
   ]
  },
  {
   "cell_type": "code",
   "execution_count": null,
   "metadata": {},
   "outputs": [],
   "source": [
    "using Flux, Flux.Data.MNIST\n",
    "using Flux: @epochs, onehotbatch, mse, throttle\n",
    "using Base.Iterators: partition\n",
    "using CUDAapi\n",
    "if has_cuda()\n",
    "    @info \"CUDA is on\"\n",
    "    import CuArrays\n",
    "    CuArrays.allowscalar(false)\n",
    "end\n",
    "\n",
    "imgs = MNIST.images()\n",
    "\n",
    "# Partition into batches of size 1000\n",
    "data = [float(hcat(vec.(imgs)...)) for imgs in partition(imgs, 1000)]\n",
    "data = gpu.(data)\n",
    "\n",
    "N = 32 # Size of the encoding\n",
    "\n",
    "# You can try to make the encoder/decoder network larger\n",
    "# Also, the output of encoder is a coding of the given input.\n",
    "# In this case, the input dimension is 28^2 and the output dimension of\n",
    "# encoder is 32. This implies that the coding is a compressed representation.\n",
    "# We can make lossy compression via this `encoder`.\n",
    "encoder = Dense(28^2, N, leakyrelu) |> gpu\n",
    "decoder = Dense(N, 28^2, leakyrelu) |> gpu\n",
    "\n",
    "m = Chain(encoder, decoder)\n",
    "\n",
    "loss(x) = mse(m(x), x)\n",
    "\n",
    "evalcb = throttle(() -> @show(loss(data[1])), 5)\n",
    "opt = ADAM()\n",
    "\n",
    "@epochs 10 Flux.train!(loss, params(m), zip(data), opt, cb = evalcb)"
   ]
  },
  {
   "cell_type": "markdown",
   "metadata": {},
   "source": [
    "## Language Interoperability"
   ]
  },
  {
   "cell_type": "code",
   "execution_count": 65,
   "metadata": {},
   "outputs": [
    {
     "data": {
      "text/plain": [
       "0.7390851332151607"
      ]
     },
     "execution_count": 65,
     "metadata": {},
     "output_type": "execute_result"
    }
   ],
   "source": [
    "# call python\n",
    "using PyCall\n",
    "\n",
    "so = pyimport(\"scipy.optimize\")\n",
    "so.newton(x -> cos(x) - x, 1)"
   ]
  },
  {
   "cell_type": "code",
   "execution_count": 69,
   "metadata": {},
   "outputs": [
    {
     "data": {
      "text/plain": [
       "\"dms-lin-p5820\""
      ]
     },
     "execution_count": 69,
     "metadata": {},
     "output_type": "execute_result"
    }
   ],
   "source": [
    "# call C libraries\n",
    "using Libdl\n",
    "hostname = Vector{UInt8}(undef, 256) # MAXHOSTNAMELEN\n",
    "err = ccall(:gethostname, Int32,\n",
    "            (Ptr{UInt8}, Csize_t),\n",
    "            hostname, sizeof(hostname))\n",
    "Base.systemerror(\"gethostname\", err != 0)\n",
    "hostname[end] = 0 # ensure null-termination\n",
    "unsafe_string(pointer(hostname))"
   ]
  },
  {
   "cell_type": "markdown",
   "metadata": {},
   "source": [
    "## Code Introspection"
   ]
  },
  {
   "cell_type": "code",
   "execution_count": 2,
   "metadata": {},
   "outputs": [
    {
     "name": "stdout",
     "output_type": "stream",
     "text": [
      "\n",
      ";  @ int.jl:53 within `+'\n",
      "define i64 @\"julia_+_14741\"(i64, i64) {\n",
      "top:\n",
      "  %2 = add i64 %1, %0\n",
      "  ret i64 %2\n",
      "}\n"
     ]
    }
   ],
   "source": [
    "@code_llvm 2+5"
   ]
  },
  {
   "cell_type": "code",
   "execution_count": 3,
   "metadata": {},
   "outputs": [
    {
     "name": "stdout",
     "output_type": "stream",
     "text": [
      "\t.text\n",
      "; ┌ @ int.jl:53 within `+'\n",
      "\tleaq\t(%rdi,%rsi), %rax\n",
      "\tretq\n",
      "\tnopw\t%cs:(%rax,%rax)\n",
      "; └\n"
     ]
    }
   ],
   "source": [
    "@code_native 2+5"
   ]
  },
  {
   "cell_type": "code",
   "execution_count": 44,
   "metadata": {},
   "outputs": [
    {
     "name": "stdout",
     "output_type": "stream",
     "text": [
      "\n",
      ";  @ reduce.jl:395 within `sum'\n",
      "; Function Attrs: noreturn\n",
      "define void @julia_sum_17410(i64, i64) #0 {\n",
      "top:\n",
      "  %2 = alloca %jl_value_t addrspace(10)*, i32 3\n",
      "  %gcframe = alloca %jl_value_t addrspace(10)*, i32 4\n",
      "  %3 = bitcast %jl_value_t addrspace(10)** %gcframe to i8*\n",
      "  call void @llvm.memset.p0i8.i32(i8* %3, i8 0, i32 32, i32 0, i1 false)\n",
      "  %thread_ptr = call i8* asm \"movq %fs:0, $0\", \"=r\"()\n",
      "  %ptls_i8 = getelementptr i8, i8* %thread_ptr, i64 -15712\n",
      "  %ptls = bitcast i8* %ptls_i8 to %jl_value_t***\n",
      "  %4 = getelementptr %jl_value_t addrspace(10)*, %jl_value_t addrspace(10)** %gcframe, i32 0\n",
      "  %5 = bitcast %jl_value_t addrspace(10)** %4 to i64*\n",
      "  store i64 4, i64* %5\n",
      "  %6 = getelementptr %jl_value_t**, %jl_value_t*** %ptls, i32 0\n",
      "  %7 = getelementptr %jl_value_t addrspace(10)*, %jl_value_t addrspace(10)** %gcframe, i32 1\n",
      "  %8 = bitcast %jl_value_t addrspace(10)** %7 to %jl_value_t***\n",
      "  %9 = load %jl_value_t**, %jl_value_t*** %6\n",
      "  store %jl_value_t** %9, %jl_value_t*** %8\n",
      "  %10 = bitcast %jl_value_t*** %6 to %jl_value_t addrspace(10)***\n",
      "  store %jl_value_t addrspace(10)** %gcframe, %jl_value_t addrspace(10)*** %10\n",
      "  %11 = call %jl_value_t addrspace(10)* @jl_box_int64(i64 signext %0)\n",
      "  %12 = getelementptr %jl_value_t addrspace(10)*, %jl_value_t addrspace(10)** %gcframe, i32 3\n",
      "  store %jl_value_t addrspace(10)* %11, %jl_value_t addrspace(10)** %12\n",
      "  %13 = call %jl_value_t addrspace(10)* @jl_box_int64(i64 signext %1)\n",
      "  %14 = getelementptr %jl_value_t addrspace(10)*, %jl_value_t addrspace(10)** %gcframe, i32 2\n",
      "  store %jl_value_t addrspace(10)* %13, %jl_value_t addrspace(10)** %14\n",
      "  %15 = getelementptr %jl_value_t addrspace(10)*, %jl_value_t addrspace(10)** %2, i32 0\n",
      "  store %jl_value_t addrspace(10)* %11, %jl_value_t addrspace(10)** %15\n",
      "  %16 = getelementptr %jl_value_t addrspace(10)*, %jl_value_t addrspace(10)** %2, i32 1\n",
      "  store %jl_value_t addrspace(10)* addrspacecast (%jl_value_t* inttoptr (i64 140198280123488 to %jl_value_t*) to %jl_value_t addrspace(10)*), %jl_value_t addrspace(10)** %16\n",
      "  %17 = getelementptr %jl_value_t addrspace(10)*, %jl_value_t addrspace(10)** %2, i32 2\n",
      "  store %jl_value_t addrspace(10)* %13, %jl_value_t addrspace(10)** %17\n",
      "  %18 = call nonnull %jl_value_t addrspace(10)* @jl_invoke(%jl_value_t addrspace(10)* addrspacecast (%jl_value_t* inttoptr (i64 140198294052144 to %jl_value_t*) to %jl_value_t addrspace(10)*), %jl_value_t addrspace(10)** %2, i32 3, %jl_value_t addrspace(10)* addrspacecast (%jl_value_t* inttoptr (i64 140197658441680 to %jl_value_t*) to %jl_value_t addrspace(10)*))\n",
      "  call void @llvm.trap()\n",
      "  unreachable\n",
      "}\n"
     ]
    }
   ],
   "source": [
    "@code_llvm sum(4,5)"
   ]
  },
  {
   "cell_type": "markdown",
   "metadata": {},
   "source": [
    "## REPL"
   ]
  },
  {
   "cell_type": "markdown",
   "metadata": {},
   "source": [
    "The REPL is awesome: \n",
    "![](repl.png)\n",
    "\n",
    "Do live examples of\n",
    "* clear Ctrl+l\n",
    "* search Ctrl+r\n",
    "* help\n",
    "* package manager\n",
    "* shell\n"
   ]
  },
  {
   "cell_type": "code",
   "execution_count": 64,
   "metadata": {},
   "outputs": [
    {
     "data": {
      "text/plain": [
       "bar"
      ]
     },
     "execution_count": 64,
     "metadata": {},
     "output_type": "execute_result"
    }
   ],
   "source": [
    "# documentation\n",
    "\"\"\"\n",
    "    bar(x[, y])\n",
    "\n",
    "Compute the Bar index between `x` and `y`. If `y` is missing, compute\n",
    "the Bar index between all pairs of columns of `x`.\n",
    "\n",
    "# Examples\n",
    "```julia-repl\n",
    "julia> bar([1, 2], [1, 2])\n",
    "1\n",
    "```\n",
    "\"\"\"\n",
    "function bar(x, y)\n",
    "    println(\"$x,$y\")\n",
    "end"
   ]
  },
  {
   "cell_type": "code",
   "execution_count": 65,
   "metadata": {},
   "outputs": [
    {
     "name": "stdout",
     "output_type": "stream",
     "text": [
      "search: \u001b[0m\u001b[1mb\u001b[22m\u001b[0m\u001b[1ma\u001b[22m\u001b[0m\u001b[1mr\u001b[22m \u001b[0m\u001b[1mb\u001b[22m\u001b[0m\u001b[1ma\u001b[22m\u001b[0m\u001b[1mr\u001b[22mh \u001b[0m\u001b[1mb\u001b[22m\u001b[0m\u001b[1ma\u001b[22m\u001b[0m\u001b[1mr\u001b[22m! \u001b[0m\u001b[1mb\u001b[22m\u001b[0m\u001b[1ma\u001b[22m\u001b[0m\u001b[1mr\u001b[22mh! \u001b[0m\u001b[1mb\u001b[22m\u001b[0m\u001b[1ma\u001b[22m\u001b[0m\u001b[1mr\u001b[22mhist \u001b[0m\u001b[1mb\u001b[22m\u001b[0m\u001b[1ma\u001b[22m\u001b[0m\u001b[1mr\u001b[22mhist! \u001b[0m\u001b[1mb\u001b[22m\u001b[0m\u001b[1ma\u001b[22m\u001b[0m\u001b[1mr\u001b[22memodule Su\u001b[0m\u001b[1mb\u001b[22m\u001b[0m\u001b[1mA\u001b[22m\u001b[0m\u001b[1mr\u001b[22mray Glo\u001b[0m\u001b[1mb\u001b[22m\u001b[0m\u001b[1ma\u001b[22ml\u001b[0m\u001b[1mR\u001b[22mef\n",
      "\n"
     ]
    },
    {
     "data": {
      "text/latex": [
       "\\begin{verbatim}\n",
       "bar(x[, y])\n",
       "\\end{verbatim}\n",
       "Compute the Bar index between \\texttt{x} and \\texttt{y}. If \\texttt{y} is missing, compute the Bar index between all pairs of columns of \\texttt{x}.\n",
       "\n",
       "\\section{Examples}\n",
       "\\begin{verbatim}\n",
       "julia> bar([1, 2], [1, 2])\n",
       "1\n",
       "\\end{verbatim}\n"
      ],
      "text/markdown": [
       "```\n",
       "bar(x[, y])\n",
       "```\n",
       "\n",
       "Compute the Bar index between `x` and `y`. If `y` is missing, compute the Bar index between all pairs of columns of `x`.\n",
       "\n",
       "# Examples\n",
       "\n",
       "```julia-repl\n",
       "julia> bar([1, 2], [1, 2])\n",
       "1\n",
       "```\n"
      ],
      "text/plain": [
       "\u001b[36m  bar(x[, y])\u001b[39m\n",
       "\n",
       "  Compute the Bar index between \u001b[36mx\u001b[39m and \u001b[36my\u001b[39m. If \u001b[36my\u001b[39m is missing, compute the Bar\n",
       "  index between all pairs of columns of \u001b[36mx\u001b[39m.\n",
       "\n",
       "\u001b[1m  Examples\u001b[22m\n",
       "\u001b[1m  ≡≡≡≡≡≡≡≡≡≡\u001b[22m\n",
       "\n",
       "\u001b[36m  julia> bar([1, 2], [1, 2])\u001b[39m\n",
       "\u001b[36m  1\u001b[39m"
      ]
     },
     "execution_count": 65,
     "metadata": {},
     "output_type": "execute_result"
    }
   ],
   "source": [
    "?bar"
   ]
  },
  {
   "cell_type": "markdown",
   "metadata": {},
   "source": [
    "## Useful Macros"
   ]
  },
  {
   "cell_type": "code",
   "execution_count": 59,
   "metadata": {},
   "outputs": [
    {
     "name": "stdout",
     "output_type": "stream",
     "text": [
      "  0.075847 seconds (134.85 k allocations: 6.551 MiB)\n"
     ]
    },
    {
     "data": {
      "text/plain": [
       "100-element Array{Int64,1}:\n",
       "  97\n",
       "  98\n",
       "  99\n",
       " 100\n",
       "   1\n",
       "   2\n",
       "   3\n",
       "   4\n",
       "   5\n",
       "   6\n",
       "   7\n",
       "   8\n",
       "   9\n",
       "   ⋮\n",
       "  85\n",
       "  86\n",
       "  87\n",
       "  88\n",
       "  89\n",
       "  90\n",
       "  91\n",
       "  92\n",
       "  93\n",
       "  94\n",
       "  95\n",
       "  96"
      ]
     },
     "execution_count": 59,
     "metadata": {},
     "output_type": "execute_result"
    }
   ],
   "source": [
    "# time functions \n",
    "@time circshift(collect(1:100), 4)"
   ]
  },
  {
   "cell_type": "code",
   "execution_count": 60,
   "metadata": {},
   "outputs": [],
   "source": [
    "# apply dot operator to every operation in function\n",
    "fdot(x) = @. 3x^2 + 4x + 7x^3 # equivalent to 3 .* x.^2 .+ 4 .* x .+ 7 .* x.^3;"
   ]
  },
  {
   "cell_type": "markdown",
   "metadata": {},
   "source": []
  },
  {
   "cell_type": "code",
   "execution_count": 63,
   "metadata": {},
   "outputs": [
    {
     "name": "stderr",
     "output_type": "stream",
     "text": [
      "┌ Info: A log message 13\n",
      "└ @ Main In[63]:2\n"
     ]
    }
   ],
   "source": [
    "# logging\n",
    "@info \"A log message $(9+4)\""
   ]
  },
  {
   "cell_type": "markdown",
   "metadata": {},
   "source": [
    "Doc strings are interepreted as Markdown. see example below copied from [documentation](https://docs.julialang.org/en/v1.4/manual/documentation/#)"
   ]
  },
  {
   "cell_type": "markdown",
   "metadata": {},
   "source": [
    "## Gotchas"
   ]
  },
  {
   "cell_type": "markdown",
   "metadata": {},
   "source": [
    "[Noteworthy differences from Matlab](https://docs.julialang.org/en/v1/manual/noteworthy-differences/#Noteworthy-differences-from-MATLAB-1)\n",
    "\n",
    "[Noteworthy differences from Python](https://docs.julialang.org/en/v1/manual/noteworthy-differences/#Noteworthy-differences-from-Python-1)\n"
   ]
  },
  {
   "cell_type": "markdown",
   "metadata": {},
   "source": [
    "## Resources\n",
    "* [Julia Lang Docs](https://docs.julialang.org/en/v1/)\n",
    "* [A Deep Introduction to Julia for Data Science and Scientific Computing](https://ucidatascienceinitiative.github.io/IntroToJulia/)\n"
   ]
  }
 ],
 "metadata": {
  "kernelspec": {
   "display_name": "Julia 1.3.1",
   "language": "julia",
   "name": "julia-1.3"
  },
  "language_info": {
   "file_extension": ".jl",
   "mimetype": "application/julia",
   "name": "julia",
   "version": "1.3.1"
  }
 },
 "nbformat": 4,
 "nbformat_minor": 4
}
